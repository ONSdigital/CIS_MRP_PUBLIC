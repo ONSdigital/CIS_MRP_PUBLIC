{
 "cells": [
  {
   "cell_type": "markdown",
   "id": "b29ad0cb-6f63-4bfd-ae07-194450859e86",
   "metadata": {},
   "source": [
    "# MRP Outputs Review"
   ]
  },
  {
   "cell_type": "markdown",
   "id": "4319eb54-2740-4fbb-a67c-39f34ff39357",
   "metadata": {},
   "source": [
    "## What this notebook does"
   ]
  },
  {
   "cell_type": "markdown",
   "id": "2d211be1-86cb-4e9a-bd79-b6ccad65faa5",
   "metadata": {},
   "source": [
    "This notebook has been set up to read in csvs, jpegs, and html files which have been sent to the review bucket, so that they can be checked for quality and disclosure. All items which are requested for export first needs to be Disclosure controlled by a seperate DisCO (Disclosure Control Officer), this cannot be the same person who ran the data and requested the export. Once disclosure controlled a Data Journey manager can be notified to move the data ready for export."
   ]
  },
  {
   "cell_type": "markdown",
   "id": "b9121e9a-f15c-4672-bf2d-b776af87b350",
   "metadata": {},
   "source": [
    "## Setup"
   ]
  },
  {
   "cell_type": "code",
   "execution_count": null,
   "id": "458d82d1-15e4-4a08-a413-d68774b4be4b",
   "metadata": {},
   "outputs": [],
   "source": [
    "## Authentification for GCS\n",
    "options(\"googleAuthR.httr_oauth_cache\" = \"gce.oauth\")\n",
    "googleAuthR::gar_gce_auth()"
   ]
  },
  {
   "cell_type": "code",
   "execution_count": null,
   "id": "96d156a2-457e-4771-87ef-2c7ebbc780b1",
   "metadata": {},
   "outputs": [],
   "source": [
    "# Details of data storage\n",
    "REVIEW_BUCKET = \"ons-psplus-analysis-prod-cis-review\" # this is the data that has been reviewed will be located"
   ]
  },
  {
   "cell_type": "code",
   "execution_count": null,
   "id": "620203be-1778-450c-9bbe-8b471e6ad4e2",
   "metadata": {},
   "outputs": [],
   "source": [
    "devtools::install(\"../gcptools\", upgrade = FALSE)\n",
    "library(googleCloudStorageR)\n",
    "library(readr)\n",
    "# This ensures that people cannot commit notebooks containing evalutated outputs. [IMPORTANT SECURITY FEATURE DO NOT REMOVE] \n",
    "gcptools::commit_hooks_setup(\"/home/jupyter/CIS_MRP\")"
   ]
  },
  {
   "cell_type": "code",
   "execution_count": null,
   "id": "df332fbc-90ed-4be0-8008-e98b018e82d9",
   "metadata": {},
   "outputs": [],
   "source": [
    "## default gives a warning about missing column name.\n",
    "## custom parse function to suppress warning\n",
    "f <- function(object){\n",
    "  suppressWarnings(httr::content(object, encoding = \"UTF-8\"))\n",
    "}"
   ]
  },
  {
   "cell_type": "markdown",
   "id": "cd7457f0-c512-4bd4-bd7d-bfa1f518e113",
   "metadata": {},
   "source": [
    "## Get csv files from the review bucket"
   ]
  },
  {
   "cell_type": "markdown",
   "id": "4985845e-9ba0-4097-870e-ccf7ad3eb7be",
   "metadata": {},
   "source": [
    "<FONT COLOR=\"RED\"> **INSTRUCTION:**</FONT> Select the csv file you want to review by replacing the string below with a filepath to the csv"
   ]
  },
  {
   "cell_type": "code",
   "execution_count": null,
   "id": "9c6d2da4-a9d2-4515-bad4-b0c324662891",
   "metadata": {},
   "outputs": [],
   "source": [
    "object_name <- \"20221121_mrp/probs_over_time_mrp_20221115_DTS221122_1411UTC.csv\" #or \"<yyyymmdd>_mrp_rerun/<filename>.csv\""
   ]
  },
  {
   "cell_type": "markdown",
   "id": "935b78fc-9b08-4486-9335-f4a4ca82a4a1",
   "metadata": {},
   "source": [
    "Get the data with custom parse function"
   ]
  },
  {
   "cell_type": "code",
   "execution_count": null,
   "id": "a9c5e7c8-32e9-4995-a456-90a3d4ff0f59",
   "metadata": {},
   "outputs": [],
   "source": [
    "data = gcs_get_object(object_name, bucket=REVIEW_BUCKET, parseFunction = f)"
   ]
  },
  {
   "cell_type": "markdown",
   "id": "46fc379e-41a2-470a-8c6d-cad899cc03a4",
   "metadata": {},
   "source": [
    "<FONT COLOR=\"RED\"> **INSTRUCTION:**</FONT> Check the contents of your csv by using the head, tail, or summary functions"
   ]
  },
  {
   "cell_type": "code",
   "execution_count": null,
   "id": "fa30dee2-3f3d-43ff-ac6e-f99dfa712ebf",
   "metadata": {},
   "outputs": [],
   "source": [
    "head(data) #or head(data), summary(data) etc"
   ]
  },
  {
   "cell_type": "markdown",
   "id": "addc315a-7a5a-4514-a42f-7f2d19919318",
   "metadata": {},
   "source": [
    "## Download QA report"
   ]
  },
  {
   "cell_type": "markdown",
   "id": "d26d6c09-e512-48bc-97a0-cc5fefb3549c",
   "metadata": {},
   "source": [
    "If 'docs' folder does not exist in the local directory, then create it. Either way, set the working directory to the docs folder to save outputs"
   ]
  },
  {
   "cell_type": "code",
   "execution_count": 1,
   "id": "7ccbf8cc-26f0-4114-a0ff-f46774d4a53b",
   "metadata": {},
   "outputs": [],
   "source": [
    "main_directory <- \"/home/jupyter\"\n",
    "sub_directory <- \"QA_reports\"\n",
    "\n",
    "if (file.exists(sub_directory)){\n",
    "    setwd(file.path(main_directory, sub_directory))\n",
    "} else {\n",
    "    dir.create(file.path(main_directory, sub_directory))\n",
    "    setwd(file.path(main_directory, sub_directory))   \n",
    "}\n"
   ]
  },
  {
   "cell_type": "markdown",
   "id": "e6229fae-99ff-4a0f-a367-e721c9cf8dbd",
   "metadata": {},
   "source": [
    "<FONT COLOR=\"RED\"> **INSTRUCTION:**</FONT> Replace the string in the 'file' argument to select the correct file from the review bucket"
   ]
  },
  {
   "cell_type": "code",
   "execution_count": 5,
   "id": "f12f83d3-99ff-42af-9cfc-434b082e232f",
   "metadata": {},
   "outputs": [
    {
     "name": "stderr",
     "output_type": "stream",
     "text": [
      "\u001b[36mℹ\u001b[39m Downloading 20230306_mrp/MRP_QA_Northern_Ireland_Datarun20230306_Co20230228_P…\n",
      "\n",
      "\u001b[32m✔\u001b[39m Downloaded and parsed 20230306_mrp/MRP_QA_Northern_Ireland_Datarun20230306_Co…\n",
      "\n",
      "\n",
      "\n"
     ]
    }
   ],
   "source": [
    "gcptools::download_qa_report_to_notebook(file = \"20230306_mrp/MRP_QA_Northern_Ireland_Datarun20230306_Co20230228_PrevCo20230221.html\", \n",
    "                                        bucket = \"ons-psplus-analysis-prod-cis-review\" ) #or \"<yyyymmdd>_mrp_rerun/<filename>.html\""
   ]
  },
  {
   "cell_type": "markdown",
   "id": "4b2ca1ab-5966-4d71-884e-788caef8a49b",
   "metadata": {},
   "source": [
    "<FONT COLOR=\"RED\"> **INSTRUCTION:**</FONT> Locate the QA_reports folder at the repo level of folders (i.e. where you would go to navigate to other repo's) to review the report"
   ]
  }
 ],
 "metadata": {
  "environment": {
   "kernel": "ir",
   "name": "r-cpu.4-2.m102",
   "type": "gcloud",
   "uri": "gcr.io/deeplearning-platform-release/r-cpu.4-2:m102"
  },
  "kernelspec": {
   "display_name": "R",
   "language": "R",
   "name": "ir"
  },
  "language_info": {
   "codemirror_mode": "r",
   "file_extension": ".r",
   "mimetype": "text/x-r-source",
   "name": "R",
   "pygments_lexer": "r",
   "version": "4.2.2"
  }
 },
 "nbformat": 4,
 "nbformat_minor": 5
}
