{
 "cells": [
  {
   "cell_type": "markdown",
   "id": "5558a2a9-bd64-4bbd-bae5-5ba332a58492",
   "metadata": {},
   "source": [
    "# Multilevel Regression with Poststratification"
   ]
  },
  {
   "cell_type": "markdown",
   "id": "f40a8f9b-00a8-47f1-8fe4-313dab185740",
   "metadata": {},
   "source": [
    " <FONT COLOR=\"BLUE\"> **TIP:  Run this script in one go by pressing the fast forward button (double right arrow at the top of this tab) </FONT>**"
   ]
  },
  {
   "cell_type": "markdown",
   "id": "cb112dd7-2a69-4695-b89d-b491f70dc871",
   "metadata": {},
   "source": [
    "## Package Setup"
   ]
  },
  {
   "cell_type": "markdown",
   "id": "7a85d987-5dda-435f-9b79-fcceebfdaf54",
   "metadata": {},
   "source": [
    "To start with cismrp needs to be installed from GitHub. The cismrp package is stored in a internal repository which means in order to install it you will need a GITHUB_PAT token (the token needed to push and pull to and from github.\n"
   ]
  },
  {
   "cell_type": "markdown",
   "id": "15646880-2c09-42be-8fee-9387bbe2f228",
   "metadata": {},
   "source": [
    "<FONT COLOR=\"RED\"> **INSTRUCTION:** </FONT>Replace <MY_GITHUB_PAT> with your personal PAT token."
   ]
  },
  {
   "cell_type": "code",
   "execution_count": null,
   "id": "09883f75-c9a9-47e7-b07b-f44cf29f1381",
   "metadata": {},
   "outputs": [],
   "source": [
    "MY_GITHUB_PAT <- \"<MY_GITHUB_PAT>\""
   ]
  },
  {
   "cell_type": "markdown",
   "id": "11a5dbe8-8e94-40b2-80ea-b8952977e4ee",
   "metadata": {},
   "source": [
    "<FONT COLOR=\"RED\"> **IMPORTANT:** </FONT> **Once you have run the previous cell, immediately replace your actual GitHub PAT token with \"\\<MY_GITHUB_PAT>\".  <br>This to ensure you don't accidentally push your PAT Token to GitHub.** <br>If you accidentally do upload your GitHub PAT token, report it to your line manager and change your PAT token straight away."
   ]
  },
  {
   "cell_type": "code",
   "execution_count": null,
   "id": "40180e76-2d05-4515-aa6f-6588c217da91",
   "metadata": {},
   "outputs": [],
   "source": [
    "Sys.setenv(GITHUB_PAT = MY_GITHUB_PAT)\n",
    "devtools::install_github(\"ONSdigital/cismrp\",\n",
    "                         auth_token = MY_GITHUB_PAT,\n",
    "                         upgrade = TRUE,\n",
    "                         quiet = TRUE,\n",
    "                         ref = \"main\")"
   ]
  },
  {
   "cell_type": "markdown",
   "id": "961500ee-e726-41d6-8977-071c5afabf50",
   "metadata": {},
   "source": [
    "## Pipeline Setup"
   ]
  },
  {
   "cell_type": "code",
   "execution_count": null,
   "id": "14dab128-a9f5-4109-a8a2-19275a9e630b",
   "metadata": {},
   "outputs": [],
   "source": [
    "### SETUP --------------------------------------------------------\n",
    "tictoc::tic.clearlog()\n",
    "\n",
    "tictoc::tic(paste0(\"Began model run at \", Sys.time(), \" - time taken\"))\n",
    "\n",
    "library(futile.logger)\n",
    "\n",
    "main_config <- cismrp::prepare_main_config(\"main_config.yaml\")\n",
    "\n",
    "gcptools::authenticate_gcp()\n",
    "\n",
    "countries <- list(\"Northern Ireland\", \"Wales\", \"Scotland\", \"England\")\n",
    "\n",
    "country_configs <- cismrp::load_country_configs(countries, main_config)\n",
    "\n",
    "country_list <- cismrp::get_map_lists(countries, country_configs)$country\n",
    "\n",
    "variant_list <- cismrp::get_map_lists(countries, country_configs)$variant\n",
    "\n",
    "region_list <- list(\"All\", \"North East\", \"North West\",\n",
    "                    \"Yorkshire and The Humber\", \"East Midlands\", \n",
    "                    \"West Midlands\", \"East of England\", \"London\", \n",
    "                    \"South East\", \"South West\")\n",
    "\n",
    "### SECURITY FEATURE [DO NOT REMOVE]------------------------------------\n",
    "# to prevent data from being accidentally leaked to github through .ipynb files\n",
    "gcptools::commit_hooks_setup(\"/home/jupyter/CIS_MRP\")"
   ]
  },
  {
   "cell_type": "markdown",
   "id": "59f45c3e-6f26-445c-970a-aba9d100430c",
   "metadata": {},
   "source": [
    "## Ingest"
   ]
  },
  {
   "cell_type": "code",
   "execution_count": null,
   "id": "7d7af2bb-0263-4439-9636-c273bd7554c3",
   "metadata": {},
   "outputs": [],
   "source": [
    "### INGEST DATA --------------------------------------------------\n",
    "tictoc::tic(paste0(\"Began ingesting data at \", Sys.time(), \" - time taken\"))\n",
    "\n",
    "population_counts <- suppressMessages(\n",
    "    gcptools::gcp_read_csv(\n",
    "        main_config$paths$population_totals,\n",
    "        bucket = \"data_bucket\"))\n",
    "\n",
    "aggregated_sample <- cismrp::ingest_data(file_reference = main_config$paths$sample_aggregates,\n",
    "                                         data_run = main_config$run_settings$data_run)\n",
    "\n",
    "aggregated_HH <- cismrp::ingest_data(file_reference = main_config$paths$household_checks,\n",
    "                                         data_run = main_config$run_settings$data_run)\n",
    "\n",
    "tictoc::toc(log = TRUE, quiet = FALSE)"
   ]
  },
  {
   "cell_type": "markdown",
   "id": "7edac028-ae6f-43ea-9ac6-3b1875214ce8",
   "metadata": {},
   "source": [
    "## Cleaning"
   ]
  },
  {
   "cell_type": "code",
   "execution_count": null,
   "id": "d0ffd680-9003-4034-a5bb-ba4d696db3db",
   "metadata": {},
   "outputs": [],
   "source": [
    "### DATA CLEANING ------------------------------------------------- \n",
    "tictoc::tic(paste0(\"Began cleaning data at \", Sys.time(), \" - time taken\"))\n",
    "\n",
    "cleaned_population_counts <- cismrp::clean_population_counts(population_counts)\n",
    "cleaned_aggregated_sample <- cismrp::clean_aggregated(aggregated_sample)\n",
    "\n",
    "tictoc::toc(log = TRUE, quiet = FALSE)"
   ]
  },
  {
   "cell_type": "markdown",
   "id": "83e33c09-3635-476c-b7c1-7047a0d6cabd",
   "metadata": {},
   "source": [
    "## Data Validation"
   ]
  },
  {
   "cell_type": "code",
   "execution_count": null,
   "id": "1545d337-b4e4-4dd9-80e6-aca26fe550f1",
   "metadata": {},
   "outputs": [],
   "source": [
    "### DATA VALIDATION -----------------------------------------------\n",
    "tictoc::tic(paste0(\"Began validating data at \", Sys.time(), \" - time taken\"))\n",
    "\n",
    "cismrp::validate_aggregated_sample_variant_positives(aggregated_sample)\n",
    "cismrp::check_missing_dates(cleaned_aggregated_sample, main_config)\n",
    "\n",
    "tictoc::toc(log = TRUE, quiet = FALSE)"
   ]
  },
  {
   "cell_type": "markdown",
   "id": "19452fca-c81e-4575-a6fa-326818dce5b0",
   "metadata": {},
   "source": [
    "## Filtering"
   ]
  },
  {
   "cell_type": "code",
   "execution_count": null,
   "id": "321bc278-3105-4826-bc42-b1843b0df43f",
   "metadata": {},
   "outputs": [],
   "source": [
    "### FILTER DATA ---------------------------------------------------\n",
    "tictoc::tic(paste0(\"Began filtering data at \", Sys.time(), \" - time taken\"))\n",
    "\n",
    "filtered_aggregates <- cismrp::filter_aggregated_samp(\n",
    "  cleaned_aggregated_sample,\n",
    "  country_configs,\n",
    "  country_list,\n",
    "  variant_list)\n",
    "\n",
    "filtered_pop_tables <- cismrp::filter_pop_table(\n",
    "  cleaned_population_counts,\n",
    "  main_config,\n",
    "  country_configs,\n",
    "  country_list,\n",
    "  variant_list)\n",
    "\n",
    "tictoc::toc(log = TRUE, quiet = FALSE)"
   ]
  },
  {
   "cell_type": "markdown",
   "id": "19a84463-cfc0-4e42-804d-9ec50bb5e069",
   "metadata": {},
   "source": [
    "## Fit Models"
   ]
  },
  {
   "cell_type": "code",
   "execution_count": null,
   "id": "8b483161-aba7-439b-b685-be7bcb3a390e",
   "metadata": {},
   "outputs": [],
   "source": [
    "### FIT MODELS ------------------------------------------------------\n",
    "tictoc::tic(paste0(\"Began fitting models for : \", \n",
    "                   paste0(unique(country_list), collapse = \", \"),\n",
    "                   \" at \", Sys.time(), \" - time taken\"))\n",
    "\n",
    "invisible(flog.appender(appender.file(\"mrp_app.log\")))\n",
    "\n",
    "invisible(flog.threshold(INFO))\n",
    "\n",
    "models <- cismrp::try_catch_fit_all_models(\n",
    "  country_configs,\n",
    "  country_list,\n",
    "  variant_list,\n",
    "  filtered_aggregates)\n",
    "\n",
    "tictoc::toc(log = TRUE, quiet = FALSE)"
   ]
  },
  {
   "cell_type": "markdown",
   "id": "3d2ed99e-9cc5-470a-ba63-b5af3980d329",
   "metadata": {},
   "source": [
    "## Draw Posteriors"
   ]
  },
  {
   "cell_type": "code",
   "execution_count": null,
   "id": "f24fe9a9-29ff-4933-9387-334d9c8b0b59",
   "metadata": {},
   "outputs": [],
   "source": [
    "### GET POSTERIOR PROBABILITIES ---------------------------------------\n",
    "tictoc::tic(paste0(\"Began poststratification at \", Sys.time(), \" - time taken\"))\n",
    "\n",
    "posterior_probabilities <- cismrp::get_posterior_probabilities(\n",
    "  models,\n",
    "  filtered_pop_tables,\n",
    "  filtered_aggregates,\n",
    "  variant_list = variant_list,\n",
    "  country_list = country_list)\n",
    "\n",
    "post_stratified_draws <- cismrp::post_stratify_posterior_probs(\n",
    "  filtered_pop_tables,\n",
    "  posterior_probabilities,\n",
    "  variant_list = variant_list,\n",
    "  country_list = country_list)\n",
    "\n",
    "tictoc::toc(log = TRUE, quiet = FALSE)"
   ]
  },
  {
   "cell_type": "markdown",
   "id": "26bb9dc7-1d4f-42b0-a03a-7f79fd9695ba",
   "metadata": {},
   "source": [
    "## Create Outputs"
   ]
  },
  {
   "cell_type": "code",
   "execution_count": null,
   "id": "fb1d2e78-458c-4aa8-889b-7853f6aa73dc",
   "metadata": {},
   "outputs": [],
   "source": [
    "### CREATE OUTPUTS ------------------------------------------------\n",
    "tictoc::tic(paste0(\"Began making outputs at \", Sys.time(), \" - time taken\"))\n",
    "\n",
    "reference_day_vs_weeks_before_probabilities <- cismrp::calculate_probabilities_comparing_dates(\n",
    "    post_stratified_draws, \n",
    "    country_configs,\n",
    "    region_list,\n",
    "    country_list,\n",
    "    variant_list)\n",
    "\n",
    "previous_probabilities <- cismrp::get_previous_probabilities(main_config)\n",
    "\n",
    "current_vs_previous_probabilities <- cismrp::probabilities_compared_to_previously_published(\n",
    "    reference_day_vs_weeks_before_probabilities,\n",
    "    previous_probabilities)\n",
    "\n",
    "prevalence_time_series <- cismrp::create_prevalence_series(\n",
    "    country_configs,\n",
    "    post_stratified_draws,\n",
    "    region_list,\n",
    "    country_list,\n",
    "    variant_list)\n",
    "\n",
    "previous_prevalence_time_series <- cismrp::get_previous_prevalence_time_series(main_config)\n",
    "\n",
    "tictoc::toc(log = TRUE, quiet = FALSE)"
   ]
  },
  {
   "cell_type": "markdown",
   "id": "a1ad8f1e-78ea-416c-8061-b6f531c40a89",
   "metadata": {},
   "source": [
    "## Save to Bucket"
   ]
  },
  {
   "cell_type": "code",
   "execution_count": null,
   "id": "66df8be3-1681-4c71-9281-f401278317d6",
   "metadata": {},
   "outputs": [],
   "source": [
    "### SAVE OUTPUTS ---------------------------------------------------\n",
    "tictoc::tic(paste0(\"Began saving outputs at \", Sys.time(), \" - time taken\"))\n",
    "\n",
    "    objects <- list(\n",
    "        \"models\" = models, \n",
    "        \"probs_over_time\" = reference_day_vs_weeks_before_probabilities,\n",
    "        \"prev_time_series\" = prevalence_time_series,\n",
    "        \"configs\" =  main_config)\n",
    "    \n",
    "    file_ids <- list(\n",
    "        \"models\" = \"models\",\n",
    "        \"probs_over_time\" = \"probs_over_time\",\n",
    "        \"prev_time_series\" = \"prev_time_series\",\n",
    "        \"configs\" = \"configs\")\n",
    "    \n",
    "    file_types <- list(\n",
    "        \"models\" = \"rdata\",\n",
    "        \"probs_over_time\" = \"csv\",\n",
    "        \"prev_time_series\" = \"csv\",\n",
    "        \"configs\" = \"yaml\")\n",
    "\n",
    "    cismrp::save_all_outputs(objects,\n",
    "                         file_ids,\n",
    "                         file_types,\n",
    "                         main_config)\n",
    "\n",
    "time_stamp <- format(Sys.time(), \"DTS%y%m%d_%H%M%Z\")\n",
    "\n",
    "tictoc::toc(log = TRUE, quiet = FALSE)"
   ]
  },
  {
   "cell_type": "markdown",
   "id": "cc850800-12be-4821-b573-f51fdf4308e3",
   "metadata": {},
   "source": [
    "## Build and Save Quality Assurance Report"
   ]
  },
  {
   "cell_type": "code",
   "execution_count": null,
   "id": "dd723173-f56d-4e67-b153-ad7334de2d55",
   "metadata": {},
   "outputs": [],
   "source": [
    "### QA Report ---------------------------------------------------\n",
    "tictoc::tic(paste0(\"Started building QA report at \", Sys.time(), \" - time taken\"))\n",
    "cismrp::qa_report(\n",
    "    local_location = \"qa_reports\",\n",
    "    bucket = gcptools::gcp_paths$review_bucket,\n",
    "    main_config = main_config,\n",
    "    country_configs = country_configs,\n",
    "    prevalence_time_series = prevalence_time_series,\n",
    "    previous_prevalence_time_series = previous_prevalence_time_series,\n",
    "    reference_day_vs_weeks_before_probabilities = current_vs_previous_probabilities,\n",
    "    cleaned_aggregated_sample = cleaned_aggregated_sample,\n",
    "    aggregated_HH = aggregated_HH,\n",
    "    aggregated_sample = aggregated_sample,\n",
    "    post_stratified_draws = post_stratified_draws)\n",
    "\n",
    "tictoc::toc(log = TRUE, quiet = FALSE)"
   ]
  },
  {
   "cell_type": "markdown",
   "id": "facdea63-2af1-4f43-ba6c-02d89a98f58a",
   "metadata": {},
   "source": [
    "## Finish and log timers"
   ]
  },
  {
   "cell_type": "code",
   "execution_count": null,
   "id": "e576cac1-8917-4a7d-a6a0-997eb91c525d",
   "metadata": {},
   "outputs": [],
   "source": [
    "### Finish Timers ---------------------------------------------------\n",
    "\n",
    "time_taken_logs <- tictoc::tic.log(format = FALSE)\n",
    "\n",
    "time_taken <- tictoc_timer(log = time_taken_logs, n_toc = 8, digits = 2)"
   ]
  }
 ],
 "metadata": {
  "environment": {
   "kernel": "ir",
   "name": "r-cpu.4-2.m102",
   "type": "gcloud",
   "uri": "gcr.io/deeplearning-platform-release/r-cpu.4-2:m102"
  },
  "kernelspec": {
   "display_name": "R",
   "language": "R",
   "name": "ir"
  },
  "language_info": {
   "codemirror_mode": "r",
   "file_extension": ".r",
   "mimetype": "text/x-r-source",
   "name": "R",
   "pygments_lexer": "r",
   "version": "4.2.2"
  }
 },
 "nbformat": 4,
 "nbformat_minor": 5
}
